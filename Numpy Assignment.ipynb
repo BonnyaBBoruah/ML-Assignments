{
 "cells": [
  {
   "cell_type": "markdown",
   "metadata": {},
   "source": [
    "Q1. Write a function so that the columns of the output matrix are powers of the input\n",
    "vector.\n",
    "The order of the powers is determined by the increasing boolean argument. Specifically, when\n",
    "increasing is False, the i-th output column is the input vector raised element-wise to the power\n",
    "of N - i - 1.\n",
    "\n",
    "HINT: Such a matrix with a geometric progression in each row is named for Alexandre-\n",
    "Theophile Vandermonde.\n",
    "\n",
    "Q2:\n",
    "Given a sequence of n values x1, x2, ..., xn and a window size k>0, the k-th moving average of\n",
    "the given sequence is defined as follows:\n",
    "The moving average sequence has n-k+1 elements.\n",
    "\n",
    "Question: Write a function to find moving average in an array over a window:\n",
    "Test it over [3, 5, 7, 2, 8, 10, 11, 65, 72, 81, 99, 100, 150] and window of 3."
   ]
  },
  {
   "cell_type": "code",
   "execution_count": 5,
   "metadata": {
    "collapsed": false
   },
   "outputs": [
    {
     "name": "stdout",
     "output_type": "stream",
     "text": [
      "Vander matrix for increasing boolean argument:\n",
      "\n",
      " [[  1   8  64 512]\n",
      " [  1   7  49 343]\n",
      " [  1   6  36 216]\n",
      " [  1   5  25 125]\n",
      " [  1   4  16  64]\n",
      " [  1   3   9  27]\n",
      " [  1   2   4   8]\n",
      " [  1   1   1   1]]\n",
      "\n",
      "Vander matrix for decreasing boolean argument:\n",
      "\n",
      " [[512  64   8   1]\n",
      " [343  49   7   1]\n",
      " [216  36   6   1]\n",
      " [125  25   5   1]\n",
      " [ 64  16   4   1]\n",
      " [ 27   9   3   1]\n",
      " [  8   4   2   1]\n",
      " [  1   1   1   1]]\n"
     ]
    },
    {
     "name": "stderr",
     "output_type": "stream",
     "text": [
      "C:\\Users\\User1\\Anaconda3\\lib\\site-packages\\ipykernel\\__main__.py:7: VisibleDeprecationWarning: using a non-integer number instead of an integer will result in an error in the future\n",
      "C:\\Users\\User1\\Anaconda3\\lib\\site-packages\\ipykernel\\__main__.py:10: VisibleDeprecationWarning: using a non-integer number instead of an integer will result in an error in the future\n"
     ]
    }
   ],
   "source": [
    "import numpy as np\n",
    "in_vector = [8,7,6,5,4,3,2,1]\n",
    "def theo(in_vec, increasing=True):\n",
    "    l = (len(in_vec)/2)\n",
    "    if increasing:\n",
    "        out_mat = np.array([x**i for x in in_vec for i in np.arange(l, dtype=int) ])\n",
    "        out_mat = out_mat.reshape(len(in_vec),l)\n",
    "    else:\n",
    "        out_mat = np.array([int(x**(l-1-i)) for x in in_vec for i in np.arange(l,dtype=int)])\n",
    "        out_mat = out_mat.reshape(len(in_vec),l)\n",
    "    return out_mat\n",
    "\n",
    "print('Vander matrix for increasing boolean argument:\\n\\n',theo(in_vector,True))\n",
    "print('\\nVander matrix for decreasing boolean argument:\\n\\n',theo(in_vector,False))"
   ]
  },
  {
   "cell_type": "code",
   "execution_count": 6,
   "metadata": {
    "collapsed": false
   },
   "outputs": [
    {
     "data": {
      "text/plain": [
       "array([   5.        ,    4.66666667,    5.66666667,    6.66666667,\n",
       "          9.66666667,   28.66666667,   49.33333333,   72.66666667,\n",
       "         84.        ,   93.33333333,  116.33333333])"
      ]
     },
     "execution_count": 6,
     "metadata": {},
     "output_type": "execute_result"
    }
   ],
   "source": [
    "def moving_average(a, n) :\n",
    "    ret = np.cumsum(a, dtype=float)\n",
    "    ret[n:] = ret[n:] - ret[:-n]\n",
    "    return ret[n - 1:] / n\n",
    "    \n",
    "a = [3, 5, 7, 2, 8, 10, 11, 65, 72, 81, 99, 100, 150]\n",
    "moving_average(a,3)"
   ]
  }
 ],
 "metadata": {
  "kernelspec": {
   "display_name": "Python [default]",
   "language": "python",
   "name": "python3"
  },
  "language_info": {
   "codemirror_mode": {
    "name": "ipython",
    "version": 3
   },
   "file_extension": ".py",
   "mimetype": "text/x-python",
   "name": "python",
   "nbconvert_exporter": "python",
   "pygments_lexer": "ipython3",
   "version": "3.5.2"
  }
 },
 "nbformat": 4,
 "nbformat_minor": 1
}

{
 "cells": [
  {
   "cell_type": "markdown",
   "metadata": {},
   "source": [
    "# ASSIGNMENT 2"
   ]
  },
  {
   "cell_type": "markdown",
   "metadata": {},
   "source": [
    "# Task 1"
   ]
  },
  {
   "cell_type": "markdown",
   "metadata": {},
   "source": [
    "Q1.1\n",
    "Write a Python Program to implement your own myreduce() function which works exactly like\n",
    "Python's built-in function reduce()."
   ]
  },
  {
   "cell_type": "code",
   "execution_count": 14,
   "metadata": {
    "collapsed": false
   },
   "outputs": [
    {
     "name": "stdout",
     "output_type": "stream",
     "text": [
      "Sum of list: 110\n",
      "Multiplication of list: 5760000\n"
     ]
    }
   ],
   "source": [
    "def myreduce(func, sequence):\n",
    "    result = sequence[0]\n",
    "    for item in sequence[1:]:\n",
    "        result = func(result, item)\n",
    "    return result\n",
    "\n",
    "def multiply(x,y):\n",
    "    return(x*y)\n",
    "\n",
    "def sum(x,y): return x + y\n",
    "\n",
    "a = [1,10,2,20,3,30,4,40]\n",
    "print (\"Sum of list: \" + str(myreduce(lambda a,b: a+b, a ) ))\n",
    "print('Multiplication of list: ' + str(myreduce(multiply, a)))"
   ]
  },
  {
   "cell_type": "markdown",
   "metadata": {},
   "source": [
    "Q1.2\n",
    "Write a Python program to implement your own myfilter() function which works exactly like\n",
    "Python's built-in function filter()"
   ]
  },
  {
   "cell_type": "code",
   "execution_count": 13,
   "metadata": {
    "collapsed": false
   },
   "outputs": [
    {
     "name": "stdout",
     "output_type": "stream",
     "text": [
      "Only positive integers: [1, 3, 4, 5, 10]\n",
      "Integers greater than 2: [3, 4, 5, 10]\n",
      "Only even numbers: [0, -2, 4, 10, -12]\n"
     ]
    }
   ],
   "source": [
    "def myfilter(func, sequence):\n",
    "    result = []\n",
    "    for item in sequence:\n",
    "        if func(item):\n",
    "            result.append(item)\n",
    "    return result\n",
    "\n",
    "def ispositive(x):\n",
    "    if (x <= 0): \n",
    "        return False \n",
    "    else: \n",
    "        return True\n",
    "\n",
    "def even(x):\n",
    "    if (x%2==0):\n",
    "        return True\n",
    "    else:\n",
    "        return False\n",
    "    \n",
    "a = [0,1,-2,3,4,5,10,-12]\n",
    "\n",
    "print (\"Only positive integers: \" + str(myfilter(ispositive, a)))\n",
    "print('Integers greater than 2: ' + str(myfilter(lambda a: a>2, a)))\n",
    "print(\"Only even numbers: \" + str(myfilter(even, a)))"
   ]
  },
  {
   "cell_type": "markdown",
   "metadata": {
    "collapsed": true
   },
   "source": [
    "Q2. Implement List comprehensions to produce the following lists. Write List comprehensions to produce the following Lists. ['A', 'C', 'A', 'D', 'G', 'I', ’L’, ‘ D’]        ['x', 'xx', 'xxx', 'xxxx', 'y', 'yy', 'yyy', 'yyyy', 'z', 'zz', 'zzz', 'zzzz']      ['x', 'y', 'z', 'xx', 'yy', 'zz', 'xx', 'yy', 'zz', 'xxxx', 'yyyy', 'zzzz']       [[2], [3], [4], [3], [4], [5], [4], [5], [6]]      [[2, 3, 4, 5], [3, 4, 5, 6], [4, 5, 6, 7], [5, 6, 7, 8]]     [(1, 1), (2, 1), (3, 1), (1, 2), (2, 2), (3, 2), (1, 3), (2, 3), (3, 3)]"
   ]
  },
  {
   "cell_type": "code",
   "execution_count": 21,
   "metadata": {
    "collapsed": false
   },
   "outputs": [
    {
     "name": "stdout",
     "output_type": "stream",
     "text": [
      "['A', 'C', 'A', 'D', 'G', 'I', 'L', 'D']\n",
      "['x', 'xx', 'xxx', 'xxxx', 'y', 'yy', 'yyy', 'yyyy', 'z', 'zz', 'zzz', 'zzzz']\n",
      "['x', 'y', 'z', 'xx', 'yy', 'zz', 'xxx', 'yyy', 'zzz', 'xxxx', 'yyyy', 'zzzz']\n",
      "[[2, 3, 4, 5], [3, 4, 5, 6], [4, 5, 6, 7], [5, 6, 7, 8]]\n",
      "[[2], [3], [4], [3], [4], [5], [4], [5], [6]]\n",
      "[(1, 1), (2, 1), (3, 1), (1, 2), (2, 2), (3, 2), (1, 3), (2, 3), (3, 3)]\n"
     ]
    }
   ],
   "source": [
    "l = [i for i in 'ACADGILD']\n",
    "print(l)\n",
    "\n",
    "lst1 = ['x','y','z']\n",
    "L1 = [item * i for item in lst1 for i in range(1,5)]\n",
    "print(L1)\n",
    "\n",
    "lst2 = ['x','y','z']\n",
    "L2 = [item * i for i in range(1,5) for item in lst2]\n",
    "print(L2)\n",
    "\n",
    "lst3 = [2,3,4,5]\n",
    "L3 = [[item + i for i in range(0,4)] for item in lst3]\n",
    "print(L3)\n",
    "\n",
    "lst4 = [2,3,4]\n",
    "L4 = [[item + i] for item in lst4 for i in range(0,3)]\n",
    "print(L4)\n",
    "\n",
    "lst5 = [1,2,3]\n",
    "result = [ (b,a) for a in lst5 for b in lst5]\n",
    "print(result)"
   ]
  },
  {
   "cell_type": "markdown",
   "metadata": {
    "collapsed": true
   },
   "source": [
    "Q3. Implement a function longestWord() that takes a list of words and returns the longest one."
   ]
  },
  {
   "cell_type": "code",
   "execution_count": 7,
   "metadata": {
    "collapsed": false
   },
   "outputs": [
    {
     "name": "stdout",
     "output_type": "stream",
     "text": [
      "The longest word is: antagonist with length 10\n",
      "The longest word is: buffalo with length 7\n"
     ]
    }
   ],
   "source": [
    "a = ['apple','ant','antelope','antagonist']\n",
    "b = ['ball','Belfast','ballistic','buffalo']\n",
    "c = ['cat','caterpillar','cantaloupe','cuff']\n",
    "length = 0\n",
    "for i in a:\n",
    "    if len(i) > length:\n",
    "        length = len(i)\n",
    "\n",
    "for B in b:\n",
    "    if len(B) > length:\n",
    "        length = len(B)\n",
    "\n",
    "print(\"The longest word is:\", i, \"with length\",len(i))\n",
    "print(\"The longest word is:\", B, \"with length\",len(B))\n"
   ]
  },
  {
   "cell_type": "markdown",
   "metadata": {},
   "source": [
    "# Task 2"
   ]
  },
  {
   "cell_type": "markdown",
   "metadata": {},
   "source": [
    "Q1.1 Write a Python Program(with class concepts) to find the area of the triangle using the below\n",
    "formula.\n",
    "area = (s*(s-a)*(s-b)*(s-c)) ** 0.5\n",
    "(Function to take the length of the sides of triangle from user should be defined in the parent\n",
    "class and function to calculate the area should be defined in subclass.)"
   ]
  },
  {
   "cell_type": "code",
   "execution_count": 6,
   "metadata": {
    "collapsed": false
   },
   "outputs": [
    {
     "name": "stdout",
     "output_type": "stream",
     "text": [
      "Inherited Successfully\n",
      "Area of the triangle = 19.62 cm²\n",
      "None\n"
     ]
    }
   ],
   "source": [
    "class triangle():\n",
    "    def __init__(self,a,b,c):\n",
    "        self.a = float(a)  \n",
    "        self.b = float(b)\n",
    "        self.c = float(c)\n",
    "    \n",
    "    \n",
    "class area_triangle (triangle):\n",
    "    def __init__(self, *args):\n",
    "        super().__init__(*args)\n",
    "        print('Inherited Successfully')\n",
    "   \n",
    "    def formula_area(self): \n",
    "        s = (self.a + self.b + self.c)/2\n",
    "        Area = abs(((s*(s - self.a)*(s - self.b)*(s - self.c))**0.5))\n",
    "        Area = round(Area, 2)\n",
    "        print((\"Area of the triangle = {} cm\\u00b2\".format(Area) ))\n",
    "        \n",
    "        \n",
    "a = area_triangle(4,6,12)\n",
    "\n",
    "print(a.formula_area())"
   ]
  },
  {
   "cell_type": "markdown",
   "metadata": {
    "collapsed": true
   },
   "source": [
    "NOTE: the question did not mention what s is and so while looking up the formula for s, I came across the formula for area and 0.5 as the power of (s*(s-a)*(s-b)*(s-c)).\n"
   ]
  },
  {
   "cell_type": "markdown",
   "metadata": {},
   "source": [
    "Q1.2 Write a function filter_long_words() that takes a list of words and an integer n and returns the list\n",
    "of words that are longer than n."
   ]
  },
  {
   "cell_type": "code",
   "execution_count": 11,
   "metadata": {
    "collapsed": false
   },
   "outputs": [
    {
     "name": "stdout",
     "output_type": "stream",
     "text": [
      "Enter a sentence using no numbers: \n",
      "Hello! I think I am finally learning a bit about programming!!\n",
      "Enter number here: 4\n",
      "Hello!, think, finally, learning, about, programming!!, "
     ]
    }
   ],
   "source": [
    "def filter_long_words():\n",
    "    lst = str(input(\"Enter a sentence using no numbers: \\n\"))\n",
    "    number = int(input('Enter number here: '))\n",
    "    lst = lst.split()\n",
    "\n",
    "    for i in lst:\n",
    "        if len(i)>number:\n",
    "            print(i, end =', ')\n",
    "            \n",
    "filter_long_words()"
   ]
  },
  {
   "cell_type": "markdown",
   "metadata": {},
   "source": [
    "Q2.1 Write a Python program using function concept that maps list of words into a list of integers\n",
    "representing the lengths of the corresponding words .\n",
    "Hint: If a list [ ab,cde,erty] is passed on to the python function output should come as [2,3,4]\n",
    "Here 2,3 and 4 are the lengths of the words in the list."
   ]
  },
  {
   "cell_type": "code",
   "execution_count": 5,
   "metadata": {
    "collapsed": false
   },
   "outputs": [
    {
     "name": "stdout",
     "output_type": "stream",
     "text": [
      "Enter list of four comma-separated words: a,dsds,sdvsbws,aaa,vd,sviis\n",
      "[[1, 4, 7, 3, 2, 5]]\n"
     ]
    }
   ],
   "source": [
    "def list_length(lst):\n",
    "    lst = lst.split(',')\n",
    "    l = []\n",
    "    for i in lst:\n",
    "        l.append(len(i))\n",
    "    return l\n",
    "\n",
    "lst1 = [input('Enter list of four comma-separated words: ')]\n",
    "\n",
    "number_list = list((map(list_length,lst1)))\n",
    "print(number_list)"
   ]
  },
  {
   "cell_type": "markdown",
   "metadata": {},
   "source": [
    "Q2.2 Write a Python function which takes a character (i.e. a string of length 1) and returns True if it is\n",
    "a vowel, False otherwise."
   ]
  },
  {
   "cell_type": "code",
   "execution_count": 9,
   "metadata": {
    "collapsed": false
   },
   "outputs": [
    {
     "name": "stdout",
     "output_type": "stream",
     "text": [
      "Enter single string character: i\n",
      "True\n"
     ]
    }
   ],
   "source": [
    "def vowel_check():\n",
    "    string = (input('Enter single string character: '))\n",
    "    vowel = ['a','e','i','o','u','A','E','I','O','U']\n",
    "    if(len(string)==1):\n",
    "        if string  in vowel:\n",
    "            return True \n",
    "        else:\n",
    "            return False\n",
    "    else:\n",
    "        print('Wrong character entered')\n",
    "print(vowel_check())"
   ]
  },
  {
   "cell_type": "code",
   "execution_count": null,
   "metadata": {
    "collapsed": true
   },
   "outputs": [],
   "source": []
  }
 ],
 "metadata": {
  "anaconda-cloud": {},
  "kernelspec": {
   "display_name": "Python [default]",
   "language": "python",
   "name": "python3"
  },
  "language_info": {
   "codemirror_mode": {
    "name": "ipython",
    "version": 3
   },
   "file_extension": ".py",
   "mimetype": "text/x-python",
   "name": "python",
   "nbconvert_exporter": "python",
   "pygments_lexer": "ipython3",
   "version": "3.5.2"
  }
 },
 "nbformat": 4,
 "nbformat_minor": 1
}

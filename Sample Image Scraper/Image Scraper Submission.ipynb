{
 "cells": [
  {
   "cell_type": "code",
   "execution_count": 3,
   "metadata": {},
   "outputs": [],
   "source": [
    "from bs4 import BeautifulSoup as bs\n",
    "import requests as rq\n",
    "import os\n",
    "from selenium import webdriver"
   ]
  },
  {
   "cell_type": "code",
   "execution_count": 4,
   "metadata": {},
   "outputs": [],
   "source": [
    "url_gaana = \"https://gaana.com/search/albums/\"\n",
    "keyword = 'trap'\n",
    "url_gaana = url_gaana + keyword"
   ]
  },
  {
   "cell_type": "code",
   "execution_count": 5,
   "metadata": {},
   "outputs": [],
   "source": [
    "driver = webdriver.Chrome()\n",
    "driver.get(url_gaana)\n",
    "source = driver.page_source\n",
    "gaana_html = bs(source, 'html.parser')"
   ]
  },
  {
   "cell_type": "code",
   "execution_count": 6,
   "metadata": {},
   "outputs": [],
   "source": [
    "album_photo_link = gaana_html.findAll('img',{'class':'img'})\n",
    "\n",
    "links = []\n",
    "for photos in album_photo_link:\n",
    "    links.append(photos.get('data-src'))\n",
    "\n",
    "os.mkdir('album photos')\n",
    "i = 1\n",
    "\n",
    "for index,img_url in enumerate(links):\n",
    "    if i<=12:\n",
    "        img_data = rq.get(img_url).content\n",
    "        with open('album photos/'+ str(index+1) + '.jpg', 'wb+') as f:\n",
    "            f.write(img_data)\n",
    "        i += 1\n",
    "    else:\n",
    "        f.close()\n",
    "        break"
   ]
  },
  {
   "cell_type": "code",
   "execution_count": null,
   "metadata": {},
   "outputs": [],
   "source": []
  }
 ],
 "metadata": {
  "kernelspec": {
   "display_name": "Python 3",
   "language": "python",
   "name": "python3"
  },
  "language_info": {
   "codemirror_mode": {
    "name": "ipython",
    "version": 3
   },
   "file_extension": ".py",
   "mimetype": "text/x-python",
   "name": "python",
   "nbconvert_exporter": "python",
   "pygments_lexer": "ipython3",
   "version": "3.7.6"
  }
 },
 "nbformat": 4,
 "nbformat_minor": 4
}
